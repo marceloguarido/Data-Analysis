{
 "cells": [
  {
   "cell_type": "markdown",
   "id": "5bd105d7-f3cc-4b77-8959-bf4a55f91494",
   "metadata": {},
   "source": [
    "---\n",
    "\n",
    "<center> <h1> <span style='color:#292D78'> CREWES Data Science Training </span> </h1> </center>\n",
    "\n",
    "<center> <h2> <span style='color:#DF7F00'> Lab 4: Boston Housing Price Prediction </span> </h2> </center>\n",
    "\n",
    "---\n",
    "\n",
    "In this [Jupyter Notebook](https://jupyter.org/install) we will predict the **Boston housing price** using regression models."
   ]
  },
  {
   "cell_type": "markdown",
   "id": "b504ddb0-83c5-4f1b-b8c9-9828de57233b",
   "metadata": {},
   "source": [
    "# Boston Housing Price\n",
    "\n",
    "### Context\n",
    "\n",
    "Investments in real state is reasonable stable, and predicting housing prices based on the house's feature is of extremely importance to know in which region to invest expecting a higher profit. In this project, you will identify the qualities in a house from Boston and predict its retail price.\n",
    "\n",
    "### Objective\n",
    "\n",
    "Analyze the Boston housing dataset, identify which house qualities impact more in the price of the house, and train and test a regression model to predict the price of houses.\n",
    "\n",
    "### Content\n",
    "\n",
    "You are provided with house prices and features in Boston evaluated from 2014 to 2015.\n",
    "\n",
    "> File: BostonHousing.csv\n",
    "\n",
    "* **id**: identification of the house\n",
    "* **date**: date of the house evaluation\n",
    "* **price**: price of the house in US$\n",
    "* **bedrooms**: number of bedrooms\n",
    "* **bathrooms**: number of bathrooms\n",
    "* **sqft_living**: square footage of the living area\n",
    "* **sqft_lot**: square footage of the lot\n",
    "* **floors**: number of floors\n",
    "* **waterfront**: if it contains a waterfront\n",
    "* **view**: if it has a good view\n",
    "* **condition**: house's condition\n",
    "* **grade**: house's score\n",
    "* **sqft_above**: square footage of the upper level (if any)\n",
    "* **sqft_basement**: square footage of the basement (if any)\n",
    "* ***yr_built**: year built\n",
    "* **yr_renovated**: year renovated (if any)\n",
    "* **zipcode**: zipcode\n",
    "* **lat**: latitude\n",
    "* **long**: longitude\n",
    "* **sqft_living15**: average square footage of the living area of the 15 nearest houses\n",
    "* **sqft_lot15**: average square footage of the lot of the 15 nearest houses"
   ]
  },
  {
   "cell_type": "markdown",
   "id": "d16cb288-e356-4626-b14b-7cb1923acb9a",
   "metadata": {},
   "source": [
    "Loading packages:"
   ]
  },
  {
   "cell_type": "code",
   "execution_count": null,
   "id": "8923e115-e871-42c0-a5a5-27ea2c87f78f",
   "metadata": {},
   "outputs": [],
   "source": [
    "# Core\n",
    "import numpy as np\n",
    "import pandas as pd\n",
    "\n",
    "# Supressing scientific notation in Pandas\n",
    "pd.set_option('display.float_format', lambda x: '%.2f' % x)\n",
    "\n",
    "# Visualization\n",
    "import matplotlib.pyplot as plt\n",
    "import seaborn as sns\n",
    "\n",
    "# print plots\n",
    "%matplotlib inline \n",
    "\n",
    "# Machine Learning models and tools\n",
    "from sklearn.model_selection import train_test_split\n",
    "from sklearn.preprocessing import StandardScaler\n",
    "from sklearn.linear_model import LinearRegression\n",
    "from sklearn.svm import SVR, LinearSVR\n",
    "from sklearn.neural_network import MLPRegressor\n",
    "\n",
    "# Metrics\n",
    "from sklearn.metrics import r2_score, mean_squared_error, explained_variance_score\n",
    "\n",
    "# To supress warnings and deprecated messages\n",
    "import warnings\n",
    "\n",
    "warnings.filterwarnings(\"ignore\")"
   ]
  },
  {
   "cell_type": "markdown",
   "id": "c66025d5-2675-41a5-8de1-fbcb3065eac3",
   "metadata": {},
   "source": [
    "Reading Boston Hoursing file:"
   ]
  },
  {
   "cell_type": "code",
   "execution_count": null,
   "id": "b04cc58e-f6b1-418c-8620-0974d2ccedbb",
   "metadata": {},
   "outputs": [],
   "source": [
    "data = pd.read_csv(\"BostonHousing.csv\")\n",
    "print(data.shape)\n",
    "data"
   ]
  },
  {
   "cell_type": "markdown",
   "id": "3b4ecfbe-aea5-4131-a600-7f1238b22d3d",
   "metadata": {},
   "source": [
    "The data contains $21613$ rows and $21$ columns.\n",
    "\n",
    "Checking data types:"
   ]
  },
  {
   "cell_type": "code",
   "execution_count": null,
   "id": "fb9d0f2a-7312-4a13-9740-59d7bcc255ac",
   "metadata": {},
   "outputs": [],
   "source": [
    "data.info()"
   ]
  },
  {
   "cell_type": "markdown",
   "id": "05ed11cf",
   "metadata": {},
   "source": [
    "There are no missing values in the data. Except for `date`, that is of type *object*, all other columns are numeric.\n",
    "\n",
    "* `waterfront` sets if the house contains a water exit or not, though a boolean scenario\n",
    "* `view`, `condition`, and `grade` should be categorical"
   ]
  },
  {
   "cell_type": "code",
   "execution_count": null,
   "id": "f37d258f",
   "metadata": {},
   "outputs": [],
   "source": [
    "print(data.waterfront.unique())\n",
    "print(data.view.unique())\n",
    "print(data.condition.unique())\n",
    "print(data.grade.unique())"
   ]
  },
  {
   "cell_type": "markdown",
   "id": "fc37375b",
   "metadata": {},
   "source": [
    "Checking for duplicates:"
   ]
  },
  {
   "cell_type": "code",
   "execution_count": null,
   "id": "7d0b1acc",
   "metadata": {},
   "outputs": [],
   "source": [
    "data.duplicated().sum()"
   ]
  },
  {
   "cell_type": "markdown",
   "id": "46fc29ed",
   "metadata": {},
   "source": [
    "There are not duplicated rows.\n",
    "\n",
    "Checking again for missing:"
   ]
  },
  {
   "cell_type": "code",
   "execution_count": null,
   "id": "27b777b6",
   "metadata": {},
   "outputs": [],
   "source": [
    "data.isna().sum()"
   ]
  },
  {
   "cell_type": "markdown",
   "id": "cf6227e9",
   "metadata": {},
   "source": [
    "There are no missing values.\n",
    "\n",
    "Let's drop the columns `id`, `date`, `zipcode` as we won't be using them:"
   ]
  },
  {
   "cell_type": "code",
   "execution_count": null,
   "id": "cb05cfcd",
   "metadata": {},
   "outputs": [],
   "source": [
    "data.drop(columns = [\"id\", \"date\", \"zipcode\"], inplace = True)\n",
    "data"
   ]
  },
  {
   "cell_type": "markdown",
   "id": "662b3be1-405f-44f4-8c6b-8726901bd39b",
   "metadata": {},
   "source": [
    "### Converting Columns Types\n",
    "\n",
    "* `waterfront` > boolean\n",
    "* `view` > category\n",
    "* `condition` > category\n",
    "* `grade` > category"
   ]
  },
  {
   "cell_type": "code",
   "execution_count": null,
   "id": "92493496-24f0-4fb6-84dd-622703082589",
   "metadata": {},
   "outputs": [],
   "source": [
    "data[\"waterfront\"] = data[\"waterfront\"].astype(\"bool\")\n",
    "\n",
    "cat = [\"view\", \"condition\", \"grade\"]\n",
    "\n",
    "for i in cat:\n",
    "    data[i] = data[i].astype(\"category\")\n",
    "\n",
    "data.info()"
   ]
  },
  {
   "cell_type": "markdown",
   "id": "b218ae00",
   "metadata": {},
   "source": [
    "Statistical description of the data:"
   ]
  },
  {
   "cell_type": "code",
   "execution_count": null,
   "id": "4ea999a8-b3bd-4bb9-a9fc-9fb77bce7a38",
   "metadata": {},
   "outputs": [],
   "source": [
    "data.describe().T"
   ]
  },
  {
   "cell_type": "markdown",
   "id": "459b6dcb",
   "metadata": {},
   "source": [
    "* *price* has a minimum of $75k and a maximum of $7.7M, and it may have a right skewed distribution\n",
    "* Up to 50% of the houses have at least 3 bedrooms, and there is a maximum na 33 bedrooms\n",
    "* At least 50% of the houses have 2.25 or more bathrooms\n",
    "* Most of the houses have equal or more than 1910 sqft of living area\n",
    "* Mean of lot square footage is larger than the 75% quantile, suggesting a strongly right skewed distribution\n",
    "* The oldest house in the data was built in 1900 while the newest one was built in 2015\n",
    "* There are a large number of houses that were never renovated"
   ]
  },
  {
   "cell_type": "code",
   "execution_count": null,
   "id": "353e8386",
   "metadata": {},
   "outputs": [],
   "source": [
    "data.describe(exclude = np.number).T"
   ]
  },
  {
   "cell_type": "markdown",
   "id": "7880726e",
   "metadata": {},
   "source": [
    "* Most of the houses have no water front, no good view, are of average condition, and received an average grade."
   ]
  },
  {
   "cell_type": "markdown",
   "id": "72e0d1df-157f-4171-933a-fb770a9dd554",
   "metadata": {},
   "source": [
    "# EDA"
   ]
  },
  {
   "cell_type": "markdown",
   "id": "1e111ba2-dd56-459e-b237-f1761f9ed644",
   "metadata": {},
   "source": [
    "## Univariate Analysis\n",
    "\n",
    "### Numeric Features\n",
    "\n",
    "Let's check the distribution of the numeric columns."
   ]
  },
  {
   "cell_type": "code",
   "execution_count": null,
   "id": "192d725d-ff7c-4209-ad5d-9b4aae48e8f2",
   "metadata": {},
   "outputs": [],
   "source": [
    "def hist_box(data, feature, figsize=(12, 7)):\n",
    "\n",
    "    # Subplot canvas\n",
    "    fig, (ax_box, ax_hist) = plt.subplots(nrows = 2, sharex = True, gridspec_kw = {\"height_ratios\": (0.25, 0.75)}, figsize = figsize)\n",
    "\n",
    "    # Boxplot on top\n",
    "    sns.boxplot(data = data, x = feature, ax = ax_box, showmeans = True, color = \"pink\")  # boxplot will be created and a star will indicate the mean value of the column\n",
    "    \n",
    "    # Histogram on bottom\n",
    "    sns.histplot(data = data, x = feature, ax = ax_hist) # histogram will be created and\n",
    "\n",
    "    # Add mean and median to histogram\n",
    "    ax_hist.axvline(data[feature].mean(), color = \"green\") # mean\n",
    "    ax_hist.axvline(data[feature].median(), color = \"orange\") # median\n",
    "\n",
    "    # Title\n",
    "    fig.suptitle(\"Distribution of \" + feature, fontsize=16)"
   ]
  },
  {
   "cell_type": "code",
   "execution_count": null,
   "id": "427b7550-23f7-4f2d-92ff-05aea92aeb36",
   "metadata": {},
   "outputs": [],
   "source": [
    "# Get numerical columns:\n",
    "cols_num = list(data.select_dtypes(include = [\"int64\", \"float64\"]))\n",
    "\n",
    "print(cols_num)"
   ]
  },
  {
   "cell_type": "markdown",
   "id": "2f6209c9-8296-4715-9b3b-c8710f660c38",
   "metadata": {},
   "source": [
    "Now let's plot all the numerical columns using a for loop:"
   ]
  },
  {
   "cell_type": "code",
   "execution_count": null,
   "id": "dd3bcba0-f41c-4ac5-9cb5-ae648e929be3",
   "metadata": {},
   "outputs": [],
   "source": [
    "for i in cols_num:\n",
    "    hist_box(data, i)"
   ]
  },
  {
   "cell_type": "markdown",
   "id": "91447710-7c07-4c90-9964-b0a1abd62d6f",
   "metadata": {},
   "source": [
    "* `price` is right skewed, with outliers of prices over $1M..\n",
    "* Most of the distributions are right skewed, but `sqft_lot` and `sqft_lot15` are strongly right skewed, and we will apply the log transformation\n",
    "* `sqft_basement` and `yr_renovated` contain a large number of zeros."
   ]
  },
  {
   "cell_type": "markdown",
   "id": "d27a3140-dcd5-4324-b917-172aee6c0e9b",
   "metadata": {},
   "source": [
    "### Categorical Features"
   ]
  },
  {
   "cell_type": "code",
   "execution_count": null,
   "id": "9cb01cf0-568b-4ca4-bebf-90779e10eeae",
   "metadata": {},
   "outputs": [],
   "source": [
    "cols_cat = [\"waterfront\", \"view\", \"condition\", \"grade\"]\n",
    "\n",
    "for i in cols_cat:\n",
    "    sns.countplot(data = data, x = i);\n",
    "    plt.title(i)\n",
    "    plt.show()"
   ]
  },
  {
   "cell_type": "markdown",
   "id": "e0b1ddda-b105-4ee3-8236-1150cb62012a",
   "metadata": {},
   "source": [
    "* Most of the houses don't have water front or a good view\n",
    "* Only a few houses are in low condition\n",
    "* 7 and 8 are the most common grades."
   ]
  },
  {
   "cell_type": "markdown",
   "id": "b06a6e34-421b-4dc6-bbe3-543d34dd154c",
   "metadata": {},
   "source": [
    "## Bivariate Analysis"
   ]
  },
  {
   "cell_type": "markdown",
   "id": "b902be98-af75-487b-a11f-682123eb11d0",
   "metadata": {},
   "source": [
    "### Numerical vs Price"
   ]
  },
  {
   "cell_type": "code",
   "execution_count": null,
   "id": "7ca0fbc0-45ad-4db8-a2ff-0731f703a0c2",
   "metadata": {},
   "outputs": [],
   "source": [
    "for i in cols_num:\n",
    "    plt.figure(figsize = (15, 7))\n",
    "    sns.scatterplot(data = data, x = i, y = \"price\")\n",
    "    plt.title(i)\n",
    "    plt.show()"
   ]
  },
  {
   "cell_type": "markdown",
   "id": "afd0e186-81f9-431c-b61f-ac6d850e12bc",
   "metadata": {},
   "source": [
    "* `price` seems to have a posite correlation with almost all the numerical variables, except for `floors`, `sqft_lot`, and `sqft_lot15`.\n",
    "* Location (`lat`, `long`) also have an influency in the price of the houses.\n",
    "* `sqft_lot` and `sqft_lot15` seem to have a non-linear relationship with price. A linear model will hardly capture their correlation."
   ]
  },
  {
   "cell_type": "markdown",
   "id": "c68eb907-1eff-4518-a044-3c326f37bdd0",
   "metadata": {},
   "source": [
    "### Categorical vs Price"
   ]
  },
  {
   "cell_type": "code",
   "execution_count": null,
   "id": "1e503391-6f17-4dce-a21b-62ad44a588e4",
   "metadata": {},
   "outputs": [],
   "source": [
    "for i in cat:\n",
    "    plt.figure(figsize = (15, 7))\n",
    "    sns.boxplot(data = data, x = \"price\", y = i, showfliers = False)\n",
    "    plt.title(i)\n",
    "    plt.show()"
   ]
  },
  {
   "cell_type": "markdown",
   "id": "003c7546-97cc-49ec-8b82-57c7a4d4f373",
   "metadata": {},
   "source": [
    "* Better the view, higher the price of the house\n",
    "* When the houses are in better condition, they tend to be more expensive, however it seems not true for conditions 3 and 4\n",
    "* Higher the grade of the house, higher the price is"
   ]
  },
  {
   "cell_type": "markdown",
   "id": "b90bb2bb",
   "metadata": {},
   "source": [
    "### Log transformation\n",
    "\n",
    "We will do the log transformation on the `sqft_lot` and `sqfr_lot15` columns"
   ]
  },
  {
   "cell_type": "code",
   "execution_count": null,
   "id": "8abf5757",
   "metadata": {},
   "outputs": [],
   "source": [
    "log_cols = [\"sqft_lot\", \"sqft_lot15\"]\n",
    "\n",
    "for i in log_cols:\n",
    "    data[i + \"_log\"] = np.log(data[i] + 1)\n",
    "    plt.figure(figsize = (15, 7))\n",
    "    sns.scatterplot(data = data, x = i + \"_log\", y = \"price\")\n",
    "    plt.title(i + \"_log\")\n",
    "    plt.show()"
   ]
  },
  {
   "cell_type": "markdown",
   "id": "b79287f0",
   "metadata": {},
   "source": [
    "The log of `sqft_lot` and `sqft_lot15` now seems to have a positive correlation with the price of the house."
   ]
  },
  {
   "cell_type": "markdown",
   "id": "a9f4bb69-9236-4568-b945-16a69b3dca96",
   "metadata": {},
   "source": [
    "## Multivariate"
   ]
  },
  {
   "cell_type": "markdown",
   "id": "4b626bf0-932a-4671-ba31-7c675fa25ea2",
   "metadata": {},
   "source": [
    "### Correlation Plot"
   ]
  },
  {
   "cell_type": "code",
   "execution_count": null,
   "id": "a4d0ce8d-5100-4ed3-9c94-702b697515e3",
   "metadata": {},
   "outputs": [],
   "source": [
    "plt.figure(figsize = (15,10))\n",
    "sns.heatmap(data = data.corr(), vmin = -1, vmax = 1, annot = True, fmt = \".2f\", cmap = \"Spectral\");"
   ]
  },
  {
   "cell_type": "code",
   "execution_count": null,
   "id": "1086d0b0-6edd-42d4-8a3d-c7759539178d",
   "metadata": {},
   "outputs": [],
   "source": [
    "plt.figure(figsize = (15,10))\n",
    "sns.heatmap(data = data.corr(method = \"spearman\"), vmin = -1, vmax = 1, annot = True, fmt = \".2f\", cmap = \"Spectral\");"
   ]
  },
  {
   "cell_type": "markdown",
   "id": "47aab537-dd0b-49a8-92af-7d79776e013b",
   "metadata": {},
   "source": [
    "* `price` has a relative high positive correlation with the size of the house, number of bedrooms and bathrooms, and number of floors.\n",
    "* The square footage features have a high correlation with each other.\n",
    "\n",
    "Let's drop the `sqft_lot` and `sqft_lot15` columns:"
   ]
  },
  {
   "cell_type": "code",
   "execution_count": null,
   "id": "db8c46be",
   "metadata": {},
   "outputs": [],
   "source": [
    "data.drop(columns = [\"sqft_lot\", \"sqft_lot15\"], inplace = True)"
   ]
  },
  {
   "cell_type": "markdown",
   "id": "0bbac924-e3e0-4ad9-b9a5-e72c70d09469",
   "metadata": {},
   "source": [
    "### Pair Plot"
   ]
  },
  {
   "cell_type": "code",
   "execution_count": null,
   "id": "11c9519f-245b-4259-bd7f-ac8deba704c7",
   "metadata": {},
   "outputs": [],
   "source": [
    "sns.pairplot(data = data.drop(columns = [\"waterfront\"]))"
   ]
  },
  {
   "cell_type": "markdown",
   "id": "23884ced-dc77-48be-9936-19f5705751db",
   "metadata": {},
   "source": [
    "Similar interpretation as the correlation plot."
   ]
  },
  {
   "cell_type": "markdown",
   "id": "e9095c78",
   "metadata": {},
   "source": [
    "## Data Transformation"
   ]
  },
  {
   "cell_type": "markdown",
   "id": "4f1aa055",
   "metadata": {},
   "source": [
    "### One Hot Encoding\n",
    "\n",
    "Let's do the one hof encoding of the categorical features"
   ]
  },
  {
   "cell_type": "code",
   "execution_count": null,
   "id": "9fcc2741",
   "metadata": {},
   "outputs": [],
   "source": [
    "data = pd.get_dummies(data, drop_first = True)\n",
    "data"
   ]
  },
  {
   "cell_type": "markdown",
   "id": "2b166f54-5978-46d4-8579-a499b48415f2",
   "metadata": {},
   "source": [
    "# Regression"
   ]
  },
  {
   "cell_type": "markdown",
   "id": "ab783b7f",
   "metadata": {},
   "source": [
    "Meta-data:"
   ]
  },
  {
   "cell_type": "code",
   "execution_count": null,
   "id": "59157044",
   "metadata": {},
   "outputs": [],
   "source": [
    "features = list(data.drop(\"price\", axis = 1))\n",
    "target = \"price\"\n",
    "print(features)"
   ]
  },
  {
   "cell_type": "markdown",
   "id": "61e53b1b",
   "metadata": {},
   "source": [
    "## Splitting the data into train and test"
   ]
  },
  {
   "cell_type": "code",
   "execution_count": null,
   "id": "5854b7e5",
   "metadata": {},
   "outputs": [],
   "source": [
    "temp, test = train_test_split(data, test_size = 0.2, random_state = 10)\n",
    "train, val = train_test_split(temp, test_size = 0.25, random_state = 10)\n",
    "\n",
    "print(train.shape[0], val.shape[0], test.shape[0], data.shape[0])"
   ]
  },
  {
   "cell_type": "markdown",
   "id": "dc321fd1",
   "metadata": {},
   "source": [
    "### Z-Transform\n",
    "\n",
    "For most of the regression models, a kind of \"distance\" between features (from predicted values) and the target is calculated. Features commonly have different units, and numbers from one columns may be much larger than another, and those large columns will have a greater impact in the calculated distance (which may bias the model).\n",
    "\n",
    "To avoid this, we can \"normalize\" the columns or try some kind of standardization, like the **z-transform**.\n",
    "\n",
    "The **z-transform** standardize each columns by subtracting each element $x$ by the average of the columns and then divide by the standard deviation of the column:\n",
    "\n",
    "$$z = \\frac{x - u}{s}$$\n",
    "\n",
    "where $u$ is the mean and $s$ is the standard deviation of the column."
   ]
  },
  {
   "cell_type": "code",
   "execution_count": null,
   "id": "2e100532",
   "metadata": {},
   "outputs": [],
   "source": [
    "# Reseting indexes\n",
    "train.reset_index(inplace = True)\n",
    "test.reset_index(inplace = True)\n",
    "val.reset_index(inplace = True)\n",
    "\n",
    "# Saving the prices of the houses\n",
    "temp1 = train[\"price\"]\n",
    "temp2 = test[\"price\"]\n",
    "temp3 = val[\"price\"]\n",
    "\n",
    "# Creating the scaler operator\n",
    "scaler = StandardScaler()\n",
    "\n",
    "# Training and transforming the scaler for the training data\n",
    "train = scaler.fit_transform(train.drop(\"price\", axis = 1))\n",
    "\n",
    "# Transforming test\n",
    "test = scaler.transform(test.drop(\"price\", axis = 1))\n",
    "val = scaler.transform(val.drop(\"price\", axis = 1))\n",
    "\n",
    "# Recovering the columns names\n",
    "train = pd.DataFrame(train, columns = scaler.feature_names_in_)\n",
    "test = pd.DataFrame(test, columns = scaler.feature_names_in_)\n",
    "val = pd.DataFrame(val, columns = scaler.feature_names_in_)\n",
    "\n",
    "# Price back to dataframes\n",
    "train[\"price\"] = temp1\n",
    "test[\"price\"] = temp2\n",
    "val[\"price\"] = temp3"
   ]
  },
  {
   "cell_type": "code",
   "execution_count": null,
   "id": "5fa038e0",
   "metadata": {},
   "outputs": [],
   "source": [
    "train.head()"
   ]
  },
  {
   "cell_type": "code",
   "execution_count": null,
   "id": "02048243",
   "metadata": {},
   "outputs": [],
   "source": [
    "val.head()"
   ]
  },
  {
   "cell_type": "code",
   "execution_count": null,
   "id": "e5508986",
   "metadata": {},
   "outputs": [],
   "source": [
    "test.head()"
   ]
  },
  {
   "cell_type": "markdown",
   "id": "289e4ef0",
   "metadata": {},
   "source": [
    "## Linear Regression"
   ]
  },
  {
   "cell_type": "code",
   "execution_count": null,
   "id": "87ad5a6f",
   "metadata": {},
   "outputs": [],
   "source": [
    "# Creating the model\n",
    "model_lr = LinearRegression()\n",
    "\n",
    "# Training the model on the train data\n",
    "model_lr.fit(train[features], train[target])"
   ]
  },
  {
   "cell_type": "markdown",
   "id": "7d3c64be",
   "metadata": {},
   "source": [
    "Let's check how the model behaves on the train data:"
   ]
  },
  {
   "cell_type": "code",
   "execution_count": null,
   "id": "a4ebe907",
   "metadata": {},
   "outputs": [],
   "source": [
    "# Calculating predictions\n",
    "pred = model_lr.predict(train[features])\n",
    "\n",
    "# Metrics\n",
    "print(\"R2 Score:\", r2_score(train[target], pred))\n",
    "print(\"MSE:\", mean_squared_error(train[target], pred))\n",
    "print(\"Expl. Var.:\", explained_variance_score(train[target], pred))"
   ]
  },
  {
   "cell_type": "markdown",
   "id": "e1e2ec21",
   "metadata": {},
   "source": [
    "### Metrics DataFrame"
   ]
  },
  {
   "cell_type": "code",
   "execution_count": null,
   "id": "1ea9f095",
   "metadata": {},
   "outputs": [],
   "source": [
    "def regression_metrics(model, data, features = features, target = target):\n",
    "\n",
    "    # Computing prediction\n",
    "    pred = model.predict(data[features])\n",
    "\n",
    "    # Computing metrics\n",
    "    r2 = r2_score(data[target], pred)\n",
    "    mse = mean_squared_error(data[target], pred)\n",
    "    evs = explained_variance_score(data[target], pred)\n",
    "\n",
    "    # DataFrame\n",
    "    df = pd.DataFrame([r2, mse, evs], index = [\"R2 Score\", \"MSE\", \"Exp. Var.\"], columns = [\"Values\"])\n",
    "    \n",
    "    return df\n",
    "    "
   ]
  },
  {
   "cell_type": "code",
   "execution_count": null,
   "id": "ff2f0c57",
   "metadata": {},
   "outputs": [],
   "source": [
    "print(\"Train Data\")\n",
    "regression_metrics(model_lr, train)"
   ]
  },
  {
   "cell_type": "code",
   "execution_count": null,
   "id": "ff2f0c57",
   "metadata": {},
   "outputs": [],
   "source": [
    "print(\"Validation Data\")\n",
    "regression_metrics(model_lr, val)"
   ]
  },
  {
   "cell_type": "code",
   "execution_count": null,
   "id": "ff2f0c57",
   "metadata": {},
   "outputs": [],
   "source": [
    "print(\"Test Data\")\n",
    "regression_metrics(model_lr, test)"
   ]
  },
  {
   "cell_type": "markdown",
   "id": "b196788f",
   "metadata": {},
   "source": [
    "What happened to the test predictions?"
   ]
  },
  {
   "cell_type": "code",
   "execution_count": null,
   "id": "68a201ac",
   "metadata": {},
   "outputs": [],
   "source": [
    "tmp = pd.DataFrame({\"True\": test[target].values, \"Predictions\": model_lr.predict(test[features])})\n",
    "tmp"
   ]
  },
  {
   "cell_type": "code",
   "execution_count": null,
   "id": "2c8be790",
   "metadata": {},
   "outputs": [],
   "source": [
    "tmp.describe().T"
   ]
  },
  {
   "cell_type": "code",
   "execution_count": null,
   "id": "91629939",
   "metadata": {},
   "outputs": [],
   "source": [
    "tmp[tmp.Predictions > 10000000]"
   ]
  },
  {
   "cell_type": "markdown",
   "id": "e8c95271",
   "metadata": {},
   "source": [
    "Apparently, the model predicted one price very wrong."
   ]
  },
  {
   "cell_type": "code",
   "execution_count": null,
   "id": "9f52b3e9",
   "metadata": {},
   "outputs": [],
   "source": [
    "test.iloc[1:4,:]"
   ]
  },
  {
   "cell_type": "markdown",
   "id": "a2bec1fb",
   "metadata": {},
   "source": [
    "The data looks good for this point...\n",
    "\n",
    "Apparently, there is some non-linear relationship not properly captured by the model for this house. Let's drop it to check the metrics."
   ]
  },
  {
   "cell_type": "code",
   "execution_count": null,
   "id": "d0b4ffb3",
   "metadata": {},
   "outputs": [],
   "source": [
    "print(\"Test Data\")\n",
    "regression_metrics(model_lr, test.drop(2))"
   ]
  },
  {
   "cell_type": "markdown",
   "id": "946a2d1d",
   "metadata": {},
   "source": [
    "Without this specific house, the metrics are good."
   ]
  },
  {
   "cell_type": "markdown",
   "id": "0502b60b",
   "metadata": {},
   "source": [
    "## Support Vector Regressor\n",
    "\n",
    "First, let's try the linear SVR."
   ]
  },
  {
   "cell_type": "code",
   "execution_count": null,
   "id": "63b0824c",
   "metadata": {},
   "outputs": [],
   "source": [
    "model_linearsvr = LinearSVR(loss = 'squared_epsilon_insensitive', random_state = 10, dual = False)\n",
    "\n",
    "model_linearsvr.fit(train[features], train[target])"
   ]
  },
  {
   "cell_type": "markdown",
   "id": "045ceb84",
   "metadata": {},
   "source": [
    "Checking the metrics:"
   ]
  },
  {
   "cell_type": "code",
   "execution_count": null,
   "id": "2dcc7475",
   "metadata": {},
   "outputs": [],
   "source": [
    "print(\"Train Data\")\n",
    "print(regression_metrics(model_linearsvr, train))\n",
    "print(20 * \"-\")\n",
    "\n",
    "print(\"Valilation Data\")\n",
    "print(regression_metrics(model_linearsvr, val))\n",
    "print(20 * \"-\")\n",
    "\n",
    "print(\"Test Data\")\n",
    "print(regression_metrics(model_linearsvr, test))\n",
    "print(20 * \"-\")"
   ]
  },
  {
   "cell_type": "markdown",
   "id": "7fc247a3",
   "metadata": {},
   "source": [
    "Similar results as the linear regression, and without the strange prediction in the test data."
   ]
  },
  {
   "cell_type": "markdown",
   "id": "06ff9465",
   "metadata": {},
   "source": [
    "## Neural Networks\n",
    "\n",
    "Now let's try a non-linear model to predict the price of the houses:"
   ]
  },
  {
   "cell_type": "code",
   "execution_count": null,
   "id": "537cb577",
   "metadata": {},
   "outputs": [],
   "source": [
    "model_nn = MLPRegressor(\n",
    "    hidden_layer_sizes = (20, 20),\n",
    "    activation = \"relu\",\n",
    "    solver = \"lbfgs\",\n",
    "    max_iter = 500,\n",
    "    early_stopping = True,\n",
    "    n_iter_no_change = 10,\n",
    "    random_state = 10\n",
    ").fit(train[features], train[target])\n",
    "\n",
    "print(\"Train Data\")\n",
    "print(regression_metrics(model_nn, train))\n",
    "print(20 * \"-\")\n",
    "\n",
    "print(\"Valilation Data\")\n",
    "print(regression_metrics(model_nn, val))\n",
    "print(20 * \"-\")\n",
    "\n",
    "print(\"Test Data\")\n",
    "print(regression_metrics(model_nn, test))\n",
    "print(20 * \"-\")"
   ]
  },
  {
   "cell_type": "markdown",
   "id": "439251ed",
   "metadata": {},
   "source": [
    "The neural networks model has a better performance than the linear regression and linear SVR."
   ]
  },
  {
   "cell_type": "markdown",
   "id": "a61d5486",
   "metadata": {},
   "source": [
    "### Plot True vs Predictions"
   ]
  },
  {
   "cell_type": "code",
   "execution_count": null,
   "id": "7ba77ede",
   "metadata": {},
   "outputs": [],
   "source": [
    "plt.figure(figsize = (8,7))\n",
    "plt.axline((0,0), (1000000, 1000000), color = \"lightgray\")\n",
    "sns.scatterplot(model_lr.predict(val[features]), val[target])\n",
    "plt.title(\"Linear Regression\")"
   ]
  },
  {
   "cell_type": "code",
   "execution_count": null,
   "id": "3761a4ec",
   "metadata": {},
   "outputs": [],
   "source": [
    "plt.figure(figsize = (8,7))\n",
    "plt.axline((0,0), (1000000, 1000000), color = \"lightgray\")\n",
    "sns.scatterplot(model_linearsvr.predict(val[features]), val[target])\n",
    "plt.title(\"Linear SVR\")"
   ]
  },
  {
   "cell_type": "code",
   "execution_count": null,
   "id": "95546063",
   "metadata": {},
   "outputs": [],
   "source": [
    "plt.figure(figsize = (8,7))\n",
    "plt.axline((0,0), (1000000, 1000000), color = \"lightgray\")\n",
    "sns.scatterplot(model_nn.predict(val[features]), val[target])\n",
    "plt.title(\"Neural Networks\")"
   ]
  },
  {
   "cell_type": "markdown",
   "id": "d480581d",
   "metadata": {},
   "source": [
    "# Summary\n",
    "\n",
    "## EDA\n",
    "\n",
    "* We removed some columns not used for the modeling.\n",
    "* Size of the house and number of bedroom and bathroom showed to be great differentiators in the price of the houses.\n",
    "* Location has influence in the price of the house.\n",
    "* The categorical features (waterfront, view, condition, and grade) also showed high influence in the price of the house.\n",
    "* sqft_lot and sqft_lot15 were transformed with a log transform, showing a better linear correlation with the price.\n",
    "* We applied the one-hot encoding on the categorical features.\n",
    "* The z-transformed was used to bring all the features with different units to the same scale\n",
    "\n",
    "## Regression\n",
    "\n",
    "* Linear regression worked fine, with good metrics, but with 1 strange prediction.\n",
    "* The linearSVR had similar metrics as the linear regression, and showed to be more stable.\n",
    "* The neural networks was the one with the best performance, showing that the housing price is not a strict linear problem."
   ]
  },
  {
   "cell_type": "markdown",
   "id": "7a68bc2f",
   "metadata": {},
   "source": []
  }
 ],
 "metadata": {
  "interpreter": {
   "hash": "45c83d1da2fb06e9f63efe859f7e90411cf40d0ecbf14a703e1c1b9baaaf4e26"
  },
  "kernelspec": {
   "display_name": "Python [conda env:work]",
   "language": "python",
   "name": "python3"
  },
  "language_info": {
   "codemirror_mode": {
    "name": "ipython",
    "version": 3
   },
   "file_extension": ".py",
   "mimetype": "text/x-python",
   "name": "python",
   "nbconvert_exporter": "python",
   "pygments_lexer": "ipython3",
   "version": "3.8.13"
  }
 },
 "nbformat": 4,
 "nbformat_minor": 5
}
